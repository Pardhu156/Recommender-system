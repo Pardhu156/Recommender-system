{
  "nbformat": 4,
  "nbformat_minor": 0,
  "metadata": {
    "colab": {
      "provenance": [],
      "include_colab_link": true
    },
    "kernelspec": {
      "name": "python3",
      "display_name": "Python 3"
    }
  },
  "cells": [
    {
      "cell_type": "markdown",
      "metadata": {
        "id": "view-in-github",
        "colab_type": "text"
      },
      "source": [
        "<a href=\"https://colab.research.google.com/github/Pardhu156/Recommender-system/blob/main/Recommender_system.ipynb\" target=\"_parent\"><img src=\"https://colab.research.google.com/assets/colab-badge.svg\" alt=\"Open In Colab\"/></a>"
      ]
    },
    {
      "cell_type": "markdown",
      "metadata": {
        "id": "kqyu1kmoKbrE"
      },
      "source": [
        "# Boltzmann Machines"
      ]
    },
    {
      "cell_type": "markdown",
      "metadata": {
        "id": "9tAA6MwdRAVd"
      },
      "source": [
        "## Importing the libraries"
      ]
    },
    {
      "cell_type": "code",
      "source": [
        "import pandas as pd\n",
        "import numpy as np\n",
        "import matplotlib.pyplot as plt\n",
        "import torch\n",
        "import torch.nn as nn\n",
        "import torch.optim as optim\n",
        "import torch.nn.parallel\n",
        "import torch.utils.data\n",
        "from torch.autograd import Variable"
      ],
      "metadata": {
        "id": "Vd7ljisXjuJm"
      },
      "execution_count": null,
      "outputs": []
    },
    {
      "cell_type": "markdown",
      "metadata": {
        "id": "PDWL9xRfSRhC"
      },
      "source": [
        "## Importing the dataset"
      ]
    },
    {
      "cell_type": "code",
      "source": [
        "# movies=pd.read_csv('ml-1m/movies.dat',sep='::',header=None,engine='python',encoding='latin-1')\n",
        "# users=pd.read_csv('ml-1m/users.dat',sep='::',header=None,engine='python',encoding='latin-1')\n",
        "# ratings=pd.read_csv('ml-1m/ratings.dat',sep='::',header=None,engine='python',encoding='latin-1')"
      ],
      "metadata": {
        "id": "PQQSJw_eobwu"
      },
      "execution_count": null,
      "outputs": []
    },
    {
      "cell_type": "markdown",
      "metadata": {
        "id": "Ifo6XYFvXsRF"
      },
      "source": [
        "## Preparing the training set and the test set"
      ]
    },
    {
      "cell_type": "code",
      "source": [
        "training_set=pd.read_csv('ml-100k/u1.base',delimiter='\\t')\n",
        "training_set=np.array(training_set,dtype='int')\n",
        "test_set=pd.read_csv('ml-100k/u1.test',delimiter='\\t')\n",
        "test_set=np.array(test_set,dtype='int')"
      ],
      "metadata": {
        "id": "uVhULq4ctWu9"
      },
      "execution_count": null,
      "outputs": []
    },
    {
      "cell_type": "markdown",
      "metadata": {
        "id": "ujNEtV_fX8d3"
      },
      "source": [
        "## Getting the number of users and movies"
      ]
    },
    {
      "cell_type": "code",
      "source": [
        "nb_users=int(max(max(training_set[ : ,0]),max(test_set[ : ,0])))\n",
        "nb_movies=int(max(max(training_set[ : ,1]),max(test_set[ : ,1])))"
      ],
      "metadata": {
        "id": "wbRlArY4A8We"
      },
      "execution_count": null,
      "outputs": []
    },
    {
      "cell_type": "markdown",
      "metadata": {
        "id": "iPJDmiQlYD1r"
      },
      "source": [
        "## Converting the data into an array with users in lines and movies in columns"
      ]
    },
    {
      "cell_type": "code",
      "source": [
        "def convert(data):\n",
        "  new_data=[]\n",
        "  for id_users in range(1,nb_users+1):\n",
        "    id_movies=data[ : ,1][data[ : ,0]==id_users]\n",
        "    id_ratings=data[ : ,2][data[ : ,0]==id_users]\n",
        "    ratings=np.zeros(nb_movies)\n",
        "    ratings[id_movies-1]=id_ratings\n",
        "    new_data.append(list(ratings))\n",
        "  return new_data"
      ],
      "metadata": {
        "id": "y4d-G1AyETqb"
      },
      "execution_count": null,
      "outputs": []
    },
    {
      "cell_type": "code",
      "source": [
        "training_set=convert(training_set)\n",
        "test_set=convert(test_set)"
      ],
      "metadata": {
        "id": "b2XllfUdk2lx"
      },
      "execution_count": null,
      "outputs": []
    },
    {
      "cell_type": "markdown",
      "metadata": {
        "id": "Aj4327VkYZAB"
      },
      "source": [
        "## Converting the data into Torch tensors"
      ]
    },
    {
      "cell_type": "code",
      "source": [
        "training_set=torch.FloatTensor(training_set)\n",
        "test_set=torch.FloatTensor(test_set)"
      ],
      "metadata": {
        "id": "GU7ZGkBvon4N"
      },
      "execution_count": null,
      "outputs": []
    },
    {
      "cell_type": "markdown",
      "metadata": {
        "id": "5n17yuE5YheZ"
      },
      "source": [
        "## Converting the ratings into binary ratings 1 (Liked) or 0 (Not Liked)"
      ]
    },
    {
      "cell_type": "code",
      "source": [
        "training_set[training_set==0]=-1\n",
        "training_set[training_set==1]=0\n",
        "training_set[training_set==2]=0\n",
        "training_set[training_set>=3]=1\n",
        "test_set[test_set==0]=-1\n",
        "test_set[test_set==1]=0\n",
        "test_set[test_set==2]=0\n",
        "test_set[test_set>=3]=1"
      ],
      "metadata": {
        "id": "ugkNOGOsqbxL"
      },
      "execution_count": null,
      "outputs": []
    },
    {
      "cell_type": "markdown",
      "metadata": {
        "id": "lVXY7u7NYuuC"
      },
      "source": [
        "## Creating the architecture of the Neural Network"
      ]
    },
    {
      "cell_type": "code",
      "source": [
        "class RBM():\n",
        "  def __init__(self,nv,nh):\n",
        "    self.w=torch.randn(nh,nv)\n",
        "    self.a=torch.randn(1,nh)\n",
        "    self.b=torch.randn(1,nv)\n",
        "  def sample_h(self,x):\n",
        "    wx=torch.mm(x,self.w.t())\n",
        "    function=wx+self.a.expand_as(wx)\n",
        "    p_h_given_v=torch.sigmoid(function)\n",
        "    return p_h_given_v,torch.bernoulli(p_h_given_v)\n",
        "  def sample_v(self,y):\n",
        "    wy=torch.mm(y,self.w)\n",
        "    function=wy+self.b.expand_as(wy)\n",
        "    p_v_given_h=torch.sigmoid(function)\n",
        "    return p_v_given_h,torch.bernoulli(p_v_given_h)\n",
        "  def train(self,v0,vk,ph0,phk):\n",
        "    self.w=self.w+torch.mm(v0.t(),ph0).t()-torch.mm(vk.t(),phk).t()\n",
        "    self.a=self.a+torch.sum((ph0-phk),0)\n",
        "    self.b=self.b+torch.sum((v0-vk),0)\n",
        "nv=nb_movies #also use len(training_set[0])\n",
        "nh=100\n",
        "rbm=RBM(nv,nh)\n",
        "batch_size=100"
      ],
      "metadata": {
        "id": "spR-6Nfs8kSS"
      },
      "execution_count": null,
      "outputs": []
    },
    {
      "cell_type": "markdown",
      "metadata": {
        "id": "JXT6ofIOY61G"
      },
      "source": [
        "## Training the RBM"
      ]
    },
    {
      "cell_type": "code",
      "source": [
        "for epochs in range(1,11): #epochs=10\n",
        "    train_loss=0\n",
        "    s=0.\n",
        "    for id_user in range(0,nb_users-batch_size,batch_size):\n",
        "      v0=training_set[id_user:id_user+batch_size]\n",
        "      vk=training_set[id_user:id_user+batch_size]\n",
        "      ph0,_=rbm.sample_h(v0)\n",
        "      for k in range(11):\n",
        "        _,hk=rbm.sample_h(vk)\n",
        "        _,vk=rbm.sample_v(hk)\n",
        "        vk[v0<0]=v0[v0<0]\n",
        "      phk,_=rbm.sample_h(vk)\n",
        "      rbm.train(v0,vk,ph0,phk)\n",
        "      train_loss += torch.mean(torch.abs(v0[v0>=0] - vk[v0>=0]))\n",
        "      s=s+1.\n",
        "    print('epoch:'+str(epochs)+' loss:'+str(train_loss/s))"
      ],
      "metadata": {
        "colab": {
          "base_uri": "https://localhost:8080/"
        },
        "id": "GKbUORoq_6-o",
        "outputId": "142b70b7-55bc-492f-d7d7-d10466752bab"
      },
      "execution_count": null,
      "outputs": [
        {
          "output_type": "stream",
          "name": "stdout",
          "text": [
            "epoch:1 loss:tensor(0.3408)\n",
            "epoch:2 loss:tensor(0.2534)\n",
            "epoch:3 loss:tensor(0.2380)\n",
            "epoch:4 loss:tensor(0.2279)\n",
            "epoch:5 loss:tensor(0.2459)\n",
            "epoch:6 loss:tensor(0.2479)\n",
            "epoch:7 loss:tensor(0.2443)\n",
            "epoch:8 loss:tensor(0.2459)\n",
            "epoch:9 loss:tensor(0.2449)\n",
            "epoch:10 loss:tensor(0.2442)\n"
          ]
        }
      ]
    },
    {
      "cell_type": "markdown",
      "metadata": {
        "id": "Dcksm8T5ZCpo"
      },
      "source": [
        "## Testing the RBM"
      ]
    },
    {
      "cell_type": "code",
      "source": [
        "test_loss=0\n",
        "s=0.\n",
        "for id_user in range(nb_users):\n",
        "  v=training_set[id_user:id_user+1]\n",
        "  vt=test_set[id_user:id_user+1]\n",
        "  if len(vt[vt>=0])>0:\n",
        "    _,h=rbm.sample_h(v)\n",
        "    _,v=rbm.sample_v(h)\n",
        "    test_loss=test_loss+torch.mean(torch.abs(vt[vt>=0]-v[vt>=0]))\n",
        "    s=s+1.\n",
        "print('loss: '+str(test_loss/s))"
      ],
      "metadata": {
        "colab": {
          "base_uri": "https://localhost:8080/"
        },
        "id": "tknjkNUDnVN3",
        "outputId": "6b02033c-41c5-4040-d9cc-2e8a33e4e4cc"
      },
      "execution_count": null,
      "outputs": [
        {
          "output_type": "stream",
          "name": "stdout",
          "text": [
            "loss: tensor(0.2497)\n"
          ]
        }
      ]
    }
  ]
}